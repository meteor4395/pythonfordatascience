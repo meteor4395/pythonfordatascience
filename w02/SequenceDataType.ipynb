{
 "cells": [
  {
   "cell_type": "markdown",
   "metadata": {},
   "source": [
    "![datatype1](datatype1.png)"
   ]
  },
  {
   "cell_type": "code",
   "execution_count": 57,
   "metadata": {},
   "outputs": [
    {
     "name": "stdout",
     "output_type": "stream",
     "text": [
      "learning\n"
     ]
    }
   ],
   "source": [
    "strSample = 'learning'\n",
    "print(strSample)                                       #string--characters"
   ]
  },
  {
   "cell_type": "code",
   "execution_count": 58,
   "metadata": {},
   "outputs": [
    {
     "name": "stdout",
     "output_type": "stream",
     "text": [
      "[1, 2, 3, 3, 4, 5]\n"
     ]
    }
   ],
   "source": [
    "lstNumbers =[1,2,3,3,4,5]\n",
    "print(lstNumbers)                                 #duplicate value of numbers\n"
   ]
  },
  {
   "cell_type": "code",
   "execution_count": 59,
   "metadata": {},
   "outputs": [
    {
     "name": "stdout",
     "output_type": "stream",
     "text": [
      "[1, 2, 'a', 'sam', 2]\n"
     ]
    }
   ],
   "source": [
    "listSample = [1,2,'a','sam',2]                 #mixed data types\n",
    "print(listSample)"
   ]
  },
  {
   "cell_type": "code",
   "execution_count": 60,
   "metadata": {},
   "outputs": [
    {
     "name": "stdout",
     "output_type": "stream",
     "text": [
      "1\n",
      "2\n",
      "3\n",
      "4\n"
     ]
    }
   ],
   "source": [
    "from array import *                     # import array module\n",
    "arrSample = array('i',[1,2,3,4])        # create array\n",
    "# print arrSample\n",
    "for x in arrSample: print(x)"
   ]
  },
  {
   "cell_type": "markdown",
   "metadata": {},
   "source": [
    "![datatype2](datatype2.png)"
   ]
  },
  {
   "cell_type": "code",
   "execution_count": 61,
   "metadata": {},
   "outputs": [],
   "source": [
    "tupSample = (1,2,3,4,3,'py')                       #create Tuple"
   ]
  },
  {
   "cell_type": "code",
   "execution_count": 62,
   "metadata": {},
   "outputs": [
    {
     "name": "stdout",
     "output_type": "stream",
     "text": [
      "(1, 2, 'sample')\n"
     ]
    }
   ],
   "source": [
    "tupSample2 = 1,2,'sample'\n",
    "print(tupSample2)                                   #tuple packing"
   ]
  },
  {
   "cell_type": "code",
   "execution_count": 63,
   "metadata": {},
   "outputs": [
    {
     "name": "stdout",
     "output_type": "stream",
     "text": [
      "{1: 'first', 'second': 2, 3: 3, 'four': '4'}\n"
     ]
    }
   ],
   "source": [
    "dictSample = {1:'first','second':2,3:3,'four':'4'}           #dictionary\n",
    "print(dictSample)"
   ]
  },
  {
   "cell_type": "code",
   "execution_count": 65,
   "metadata": {},
   "outputs": [
    {
     "name": "stdout",
     "output_type": "stream",
     "text": [
      "{'first': 1, 'second': 2, 'four': 4}\n"
     ]
    }
   ],
   "source": [
    "dict_list = dict([('first', 1), ('second', 2), ('four', 4)])\n",
    "print(dict_list)\n"
   ]
  },
  {
   "cell_type": "code",
   "execution_count": 47,
   "metadata": {},
   "outputs": [
    {
     "data": {
      "text/plain": [
       "{'a', 'e', 'l', 'm', 'p', 'x'}"
      ]
     },
     "execution_count": 47,
     "metadata": {},
     "output_type": "execute_result"
    }
   ],
   "source": [
    "setSample = {'example',24,87.5,'data',24,'data'}      # SET\n",
    "setSample\n",
    "set('example')"
   ]
  },
  {
   "cell_type": "code",
   "execution_count": 48,
   "metadata": {},
   "outputs": [
    {
     "name": "stdout",
     "output_type": "stream",
     "text": [
      "range(1, 12, 4)\n",
      "1\n",
      "5\n",
      "9\n"
     ]
    }
   ],
   "source": [
    "rangeSample = range(1,12,4)   # built in sequence type used for looping\n",
    "print(rangeSample)              # print values of rangesample\n",
    "for x in rangeSample: print(x)   # range(start value, stop value,step)"
   ]
  },
  {
   "cell_type": "code",
   "execution_count": null,
   "metadata": {},
   "outputs": [],
   "source": []
  }
 ],
 "metadata": {
  "kernelspec": {
   "display_name": "Python 3",
   "language": "python",
   "name": "python3"
  },
  "language_info": {
   "codemirror_mode": {
    "name": "ipython",
    "version": 3
   },
   "file_extension": ".py",
   "mimetype": "text/x-python",
   "name": "python",
   "nbconvert_exporter": "python",
   "pygments_lexer": "ipython3",
   "version": "3.12.1"
  }
 },
 "nbformat": 4,
 "nbformat_minor": 2
}
